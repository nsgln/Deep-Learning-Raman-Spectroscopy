{
 "cells": [
  {
   "cell_type": "markdown",
   "id": "handy-delhi",
   "metadata": {},
   "source": [
    "# Data augmentation"
   ]
  },
  {
   "cell_type": "markdown",
   "id": "soviet-character",
   "metadata": {},
   "source": [
    "Based on https://arxiv.org/pdf/1710.01927.pdf"
   ]
  },
  {
   "cell_type": "code",
   "execution_count": 3,
   "id": "illegal-dubai",
   "metadata": {},
   "outputs": [],
   "source": [
    "from data_loader import load_data\n",
    "import numpy as np\n",
    "import matplotlib.pyplot as plt\n",
    "import random\n",
    "from statistics import mean"
   ]
  },
  {
   "cell_type": "code",
   "execution_count": 4,
   "id": "animated-effectiveness",
   "metadata": {},
   "outputs": [],
   "source": [
    "X, Y, groups, coord = load_data()"
   ]
  },
  {
   "cell_type": "markdown",
   "id": "sufficient-cradle",
   "metadata": {},
   "source": [
    "## CTRL augmentation"
   ]
  },
  {
   "cell_type": "code",
   "execution_count": 5,
   "id": "dominant-eclipse",
   "metadata": {},
   "outputs": [],
   "source": [
    "spectrumID = 590\n",
    "spectrum = X[spectrumID]\n",
    "x_axis = coord[spectrumID]"
   ]
  },
  {
   "cell_type": "code",
   "execution_count": 6,
   "id": "delayed-initial",
   "metadata": {},
   "outputs": [
    {
     "data": {
      "text/plain": [
       "[<matplotlib.lines.Line2D at 0x2e072d83b70>]"
      ]
     },
     "execution_count": 6,
     "metadata": {},
     "output_type": "execute_result"
    },
    {
     "data": {
      "image/png": "[encoded data removed]",
      "text/plain": [
       "<Figure size 432x288 with 1 Axes>"
      ]
     },
     "metadata": {
      "needs_background": "light"
     },
     "output_type": "display_data"
    }
   ],
   "source": [
    "plt.plot(x_axis, spectrum)"
   ]
  },
  {
   "cell_type": "code",
   "execution_count": 7,
   "id": "conceptual-gibraltar",
   "metadata": {},
   "outputs": [],
   "source": [
    "def standard_deviation_mean(X):\n",
    "    full=[]\n",
    "    for i in X:\n",
    "        for j in i:\n",
    "            full.append(j)\n",
    "    return np.std(full), mean(full)"
   ]
  },
  {
   "cell_type": "code",
   "execution_count": 8,
   "id": "alone-sensitivity",
   "metadata": {},
   "outputs": [],
   "source": [
    "stdf, meanf = standard_deviation_mean(X)"
   ]
  },
  {
   "cell_type": "markdown",
   "id": "fifty-jacob",
   "metadata": {},
   "source": [
    "## Offset : 0,1 x Standard deviation of dataset"
   ]
  },
  {
   "cell_type": "code",
   "execution_count": 9,
   "id": "leading-illustration",
   "metadata": {},
   "outputs": [],
   "source": [
    "def offset_func(spectrum):\n",
    "    X_offset=[]\n",
    "    r=random.sample([-0.1,0.1], 1)[0]\n",
    "    for i in spectrum:\n",
    "        res = i+(r*stdf)\n",
    "        if res > 0:\n",
    "            X_offset.append(res)\n",
    "        else:\n",
    "            X_offset.append(0)\n",
    "    return X_offset"
   ]
  },
  {
   "cell_type": "code",
   "execution_count": 10,
   "id": "realistic-universe",
   "metadata": {},
   "outputs": [
    {
     "data": {
      "text/plain": [
       "[<matplotlib.lines.Line2D at 0x2e07408a630>]"
      ]
     },
     "execution_count": 10,
     "metadata": {},
     "output_type": "execute_result"
    },
    {
     "data": {
      "image/png": "[encoded data removed]",
      "text/plain": [
       "<Figure size 432x288 with 1 Axes>"
      ]
     },
     "metadata": {
      "needs_background": "light"
     },
     "output_type": "display_data"
    }
   ],
   "source": [
    "plt.plot(x_axis, offset_func(spectrum))"
   ]
  },
  {
   "cell_type": "markdown",
   "id": "distributed-coordination",
   "metadata": {},
   "source": [
    "## Multiplication : 1+- 0,1 x std"
   ]
  },
  {
   "cell_type": "code",
   "execution_count": 11,
   "id": "regulation-newspaper",
   "metadata": {},
   "outputs": [],
   "source": [
    "def multiplication_func(spectrum):\n",
    "    X_multiplication=[]\n",
    "    r=random.uniform(0.9, 1.1)\n",
    "    for i in spectrum:\n",
    "        X_multiplication.append(i*r*stdf)\n",
    "    return X_multiplication"
   ]
  },
  {
   "cell_type": "code",
   "execution_count": 12,
   "id": "round-berry",
   "metadata": {},
   "outputs": [
    {
     "data": {
      "text/plain": [
       "[<matplotlib.lines.Line2D at 0x2e0740e6d68>]"
      ]
     },
     "execution_count": 12,
     "metadata": {},
     "output_type": "execute_result"
    },
    {
     "data": {
      "image/png": "[encoded data removed]",
      "text/plain": [
       "<Figure size 432x288 with 1 Axes>"
      ]
     },
     "metadata": {
      "needs_background": "light"
     },
     "output_type": "display_data"
    }
   ],
   "source": [
    "plt.plot(x_axis, multiplication_func(spectrum))"
   ]
  },
  {
   "cell_type": "markdown",
   "id": "funky-twist",
   "metadata": {},
   "source": [
    "## Gaussian noise"
   ]
  },
  {
   "cell_type": "code",
   "execution_count": 13,
   "id": "proof-private",
   "metadata": {},
   "outputs": [],
   "source": [
    "def gaussian_noise_func(spectrum):\n",
    "    noise = np.random.normal(meanf,stdf,len(spectrum))\n",
    "    X_gaussian = []\n",
    "    for i in range(len(spectrum)):\n",
    "        res = spectrum[i]+noise[i]\n",
    "        if res > 0:\n",
    "            X_gaussian.append(res)\n",
    "        else:\n",
    "            X_gaussian.append(0)\n",
    "    return X_gaussian"
   ]
  },
  {
   "cell_type": "code",
   "execution_count": 14,
   "id": "amber-spelling",
   "metadata": {},
   "outputs": [
    {
     "data": {
      "text/plain": [
       "[<matplotlib.lines.Line2D at 0x2e0741550b8>]"
      ]
     },
     "execution_count": 14,
     "metadata": {},
     "output_type": "execute_result"
    },
    {
     "data": {
      "image/png": "[encoded data removed]",
      "text/plain": [
       "<Figure size 432x288 with 1 Axes>"
      ]
     },
     "metadata": {
      "needs_background": "light"
     },
     "output_type": "display_data"
    }
   ],
   "source": [
    "plt.plot(x_axis, gaussian_noise_func(spectrum))"
   ]
  },
  {
   "cell_type": "markdown",
   "id": "polar-flour",
   "metadata": {},
   "source": [
    "### Sum up of all the methods visually"
   ]
  },
  {
   "cell_type": "code",
   "execution_count": 15,
   "id": "banned-collectible",
   "metadata": {},
   "outputs": [],
   "source": [
    "def data_augmentation(spectrum):\n",
    "    return offset_func(spectrum), multiplication_func(spectrum), gaussian_noise_func(spectrum)"
   ]
  },
  {
   "cell_type": "code",
   "execution_count": 16,
   "id": "objective-minister",
   "metadata": {},
   "outputs": [
    {
     "data": {
      "image/png": "[encoded data removed]",
      "text/plain": [
       "<Figure size 432x288 with 4 Axes>"
      ]
     },
     "metadata": {
      "needs_background": "light"
     },
     "output_type": "display_data"
    }
   ],
   "source": [
    "offset, multiplication, gaussian_noise = data_augmentation(spectrum)\n",
    "\n",
    "fig, ((ax1, ax2), (ax3, ax4)) = plt.subplots(2, 2)\n",
    "fig.suptitle('Some spectra')\n",
    "ax1.plot(x_axis, spectrum)\n",
    "ax2.plot(x_axis, offset, 'tab:orange')\n",
    "ax3.plot(x_axis, multiplication, 'tab:green')\n",
    "ax4.plot(x_axis, gaussian_noise, 'tab:red')\n",
    "\n",
    "for ax in fig.get_axes():\n",
    "    ax.label_outer()"
   ]
  },
  {
   "cell_type": "markdown",
   "id": "municipal-sunrise",
   "metadata": {},
   "source": [
    "## Transfer learning with data augmentation "
   ]
  },
  {
   "cell_type": "markdown",
   "id": "canadian-programmer",
   "metadata": {},
   "source": [
    "Here we decide to augment :\n",
    "1) the ALS patients that have the lowest number of spectra\n",
    "\n",
    "2) all the CTRL patients in order to have a more equilibrium between the 2 classes"
   ]
  },
  {
   "cell_type": "code",
   "execution_count": 17,
   "id": "pointed-morris",
   "metadata": {},
   "outputs": [],
   "source": [
    "def get(patient, groups):\n",
    "    l= np.where(groups == patient)\n",
    "    start_idx = l[0][0]\n",
    "    end_idx = l[0][len(l[0])-1]\n",
    "    idx_range = list(range(start_idx, end_idx+1))\n",
    "    return idx_range"
   ]
  },
  {
   "cell_type": "code",
   "execution_count": 18,
   "id": "renewable-effort",
   "metadata": {},
   "outputs": [],
   "source": [
    "X_augmented = X\n",
    "Y_augmented = Y\n",
    "groups_augmented = groups"
   ]
  },
  {
   "cell_type": "code",
   "execution_count": 19,
   "id": "usual-greeting",
   "metadata": {},
   "outputs": [],
   "source": [
    "#Number of patient 0->29\n",
    "#als -> 1 or 0\n",
    "def augment(X_augmented, Y_augmented, groups_augmented, n, als):\n",
    "    X_added=[]\n",
    "    spectra_ind = get(n, groups_augmented)\n",
    "    for spectrumID in spectra_ind:\n",
    "        spectrum=X_augmented[spectrumID]\n",
    "        offset, multiplication, gaussian_noise = data_augmentation(spectrum)\n",
    "        inser = spectrumID\n",
    "        X_added.append(offset)\n",
    "        X_added.append(multiplication)\n",
    "        X_added.append(gaussian_noise)\n",
    "    last = spectra_ind[-1]+1\n",
    "    for i in range(len(X_added)):\n",
    "        X_augmented = np.insert(X_augmented, last+i, X_added[i], axis=0)\n",
    "        Y_augmented = np.insert(Y_augmented, last+i, als)\n",
    "        groups_augmented = np.insert(groups_augmented, last+i, n)\n",
    "    return X_augmented, Y_augmented, groups_augmented"
   ]
  },
  {
   "cell_type": "code",
   "execution_count": 20,
   "id": "excited-composition",
   "metadata": {
    "scrolled": true
   },
   "outputs": [],
   "source": [
    "for i in range(15, 20):\n",
    "    X_augmented, Y_augmented, groups_augmented = augment(X_augmented, Y_augmented, groups_augmented, i, 1)"
   ]
  },
  {
   "cell_type": "code",
   "execution_count": 21,
   "id": "compact-border",
   "metadata": {},
   "outputs": [],
   "source": [
    "for i in range(20, 30):\n",
    "    X_augmented, Y_augmented, groups_augmented = augment(X_augmented, Y_augmented, groups_augmented, i, 0)"
   ]
  },
  {
   "cell_type": "markdown",
   "id": "related-provider",
   "metadata": {},
   "source": [
    "## TL method"
   ]
  },
  {
   "cell_type": "markdown",
   "id": "magnetic-faith",
   "metadata": {},
   "source": [
    "The below functions are just copy/paste from the previous notebook (with comments)"
   ]
  },
  {
   "cell_type": "code",
   "execution_count": 22,
   "id": "recreational-enterprise",
   "metadata": {},
   "outputs": [],
   "source": [
    "def split_dataset(num_als, num_ctrl):\n",
    "    patient_idxs_finetune = []\n",
    "\n",
    "    x = list(range(0, 20))\n",
    "    patient_idxs_finetune = random.sample(x,num_als)\n",
    "    patient_idxs_test = [i for i in x if i not in patient_idxs_finetune]\n",
    "\n",
    "    x2 = list(range(20, 30))\n",
    "    patient_idxs_finetune += random.sample(x2,num_ctrl)\n",
    "    patient_idxs_test += [i for i in x2 if i not in patient_idxs_finetune]\n",
    "\n",
    "    #Shuffle to avoid implicit leakage (1 the firsts and 0 the lasts)\n",
    "    random.shuffle(patient_idxs_finetune)\n",
    "    random.shuffle(patient_idxs_test)\n",
    "    return patient_idxs_finetune, patient_idxs_test"
   ]
  },
  {
   "cell_type": "code",
   "execution_count": 23,
   "id": "familiar-gazette",
   "metadata": {},
   "outputs": [],
   "source": [
    "patient_idxs_finetune, patient_idxs_test = split_dataset(14,6)"
   ]
  },
  {
   "cell_type": "code",
   "execution_count": 24,
   "id": "arctic-dealing",
   "metadata": {},
   "outputs": [],
   "source": [
    "import os,sys, time\n",
    "os.chdir(os.getcwd())\n",
    "models_dir = 'Bacteria_TL'\n",
    "sys.path.append(models_dir)\n",
    "\n",
    "models = ['pretrained_model.ckpt', 'finetuned_model.ckpt', 'clinical_pretrained_model.ckpt']\n",
    "from resnet import ResNet\n",
    "import os\n",
    "import torch"
   ]
  },
  {
   "cell_type": "code",
   "execution_count": 25,
   "id": "measured-cancellation",
   "metadata": {},
   "outputs": [],
   "source": [
    "# CNN parameters\n",
    "layers = 6\n",
    "hidden_size = 100\n",
    "block_size = 2\n",
    "hidden_sizes = [hidden_size] * layers\n",
    "num_blocks = [block_size] * layers\n",
    "input_dim = 1174\n",
    "in_channels = 64\n",
    "batch_size=10\n",
    "n_classes = 2 # instead of 30, we use the 2 empiric groupings\n",
    "os.environ['CUDA_VISIBLE_DEVICES'] = '{}'.format(0)\n",
    "cuda = torch.cuda.is_available()"
   ]
  },
  {
   "cell_type": "code",
   "execution_count": 26,
   "id": "introductory-hindu",
   "metadata": {},
   "outputs": [],
   "source": [
    "#Remove last layers\n",
    "def removekey(d, listofkeys):\n",
    "    r = dict(d)\n",
    "    for key in listofkeys:\n",
    "        print('key: {} is removed'.format(key))\n",
    "        r.pop(key)\n",
    "    return r"
   ]
  },
  {
   "cell_type": "code",
   "execution_count": 27,
   "id": "administrative-vulnerability",
   "metadata": {},
   "outputs": [],
   "source": [
    "def load_model(n=0):\n",
    "    cnn = ResNet(hidden_sizes, num_blocks, input_dim=input_dim,\n",
    "                    in_channels=in_channels, n_classes=n_classes)\n",
    "    if cuda: cnn.cuda()\n",
    "\n",
    "    checkpoint = torch.load(models_dir + '/' + models[n], map_location=lambda storage, loc: storage)\n",
    "    mod_weights = removekey(checkpoint, ['linear.weight', 'linear.bias'])\n",
    "    cnn.load_state_dict(mod_weights, strict=False)\n",
    "    return cnn, mod_weights, checkpoint"
   ]
  },
  {
   "cell_type": "code",
   "execution_count": 28,
   "id": "optical-mainstream",
   "metadata": {},
   "outputs": [],
   "source": [
    "#20 patients into 4 groups of 5 patients\n",
    "def group_patients(patient_idxs_finetune):\n",
    "    patient_idxs = []\n",
    "    x = patient_idxs_finetune\n",
    "    for i in range(4):\n",
    "        l = random.sample(x,5)\n",
    "        patient_idxs.append(l)\n",
    "        x = [i for i in x if i not in l]\n",
    "    return patient_idxs"
   ]
  },
  {
   "cell_type": "code",
   "execution_count": 29,
   "id": "round-bosnia",
   "metadata": {},
   "outputs": [],
   "source": [
    "# Sample train/val/te spectra -> each group [train, train, train, val, test]\n",
    "def custom_split_finetuning(patient_idxs, groups):\n",
    "    idx_tr, idx_val, idx_te = [], [], []\n",
    "    for group_idx, patient_list in enumerate(patient_idxs):\n",
    "        print('Group {} patients'.format(group_idx))\n",
    "        print(' Tr: {}'.format(patient_list[:3]))\n",
    "        print(' Val: {}'.format(patient_list[3]))\n",
    "        print(' Te : {}'.format(patient_list[4]))\n",
    "        for j, patient in enumerate(patient_list):\n",
    "            l= np.where(groups == patient)\n",
    "            start_idx = l[0][0]\n",
    "            end_idx = l[0][len(l[0])-1]\n",
    "            idx_range = list(range(start_idx, end_idx+1))\n",
    "            np.random.shuffle(idx_range) #-> do we shuffle ? \n",
    "            print(patient, idx_range, len(idx_range))\n",
    "            if j < 3:\n",
    "                idx_tr.extend(idx_range)\n",
    "            elif j ==3:\n",
    "                idx_val.extend(idx_range)\n",
    "            else:\n",
    "                idx_te.extend(idx_range)\n",
    "    return idx_tr, idx_val, idx_te"
   ]
  },
  {
   "cell_type": "code",
   "execution_count": 30,
   "id": "public-configuration",
   "metadata": {},
   "outputs": [],
   "source": [
    "from datasets import spectral_dataloader\n",
    "from training import run_epoch\n",
    "from torch import optim"
   ]
  },
  {
   "cell_type": "code",
   "execution_count": 31,
   "id": "artificial-jewelry",
   "metadata": {},
   "outputs": [],
   "source": [
    "# Fine-tune CNN\n",
    "def finetune(cnn, idx_tr, idx_val, idx_te, X, Y):\n",
    "    epochs = 1\n",
    "    batch_size = 10\n",
    "    #t0 = time()\n",
    "    # Set up Adam optimizer\n",
    "    optimizer = optim.Adam(cnn.parameters(), lr=1e-3, betas=(0.5, 0.999))\n",
    "    # Set up dataloaders\n",
    "    dl_tr = spectral_dataloader(X, Y, idxs=idx_tr,\n",
    "        batch_size=batch_size, shuffle=True)\n",
    "    dl_val = spectral_dataloader(X, Y, idxs=idx_val,\n",
    "        batch_size=batch_size, shuffle=False)\n",
    "    dl_te = spectral_dataloader(X, Y, idxs=idx_te,\n",
    "        batch_size=batch_size, shuffle=False)\n",
    "    # Fine-tune CNN for first fold\n",
    "    best_val = 0\n",
    "    no_improvement = 0\n",
    "    max_no_improvement = 5\n",
    "    print('Starting fine-tuning!')\n",
    "    for epoch in range(epochs):\n",
    "        #print(' Epoch {}: {:0.2f}s'.format(epoch+1, time()-t0))\n",
    "        # Train\n",
    "        acc_tr, loss_tr = run_epoch(epoch, cnn, dl_tr, cuda,\n",
    "            training=True, optimizer=optimizer)\n",
    "        print('  Train acc: {:0.2f}'.format(acc_tr))\n",
    "        # Val\n",
    "        acc_val, loss_val = run_epoch(epoch, cnn, dl_val, cuda,\n",
    "            training=False, optimizer=optimizer)\n",
    "        print('  Val acc: {:0.2f}'.format(acc_val))\n",
    "        # Test\n",
    "        acc_te, loss_te = run_epoch(epoch, cnn, dl_te, cuda,\n",
    "            training=False, optimizer=optimizer)\n",
    "        print('  Test acc: {:0.2f}'.format(acc_te))\n",
    "        # Check performance for early stopping\n",
    "        if acc_val > best_val or epoch == 0:\n",
    "            best_val = acc_val\n",
    "            no_improvement = 0\n",
    "        else:\n",
    "            no_improvement += 1\n",
    "        if no_improvement >= max_no_improvement:\n",
    "            print('Finished after {} epochs!'.format(epoch+1))\n",
    "            break\n",
    "    #print('Finished: {:0.2f}s'.format(time()-t0))"
   ]
  },
  {
   "cell_type": "code",
   "execution_count": 32,
   "id": "utility-sleep",
   "metadata": {},
   "outputs": [],
   "source": [
    "from training import get_predictions\n",
    "from scipy import stats\n",
    "from statistics import mean"
   ]
  },
  {
   "cell_type": "code",
   "execution_count": 33,
   "id": "spectacular-percentage",
   "metadata": {},
   "outputs": [],
   "source": [
    "#1/ Getting test indices\n",
    "def get_test_indices(patient_idxs_test, groups):\n",
    "    idx_te = []\n",
    "    for group_idx in patient_idxs_test:\n",
    "        l= np.where(groups == group_idx)\n",
    "        start_idx = l[0][0]\n",
    "        end_idx = l[0][len(l[0])-1]\n",
    "        idx_te += list(range(start_idx, end_idx+1))\n",
    "    return idx_te"
   ]
  },
  {
   "cell_type": "code",
   "execution_count": 34,
   "id": "opposed-dining",
   "metadata": {},
   "outputs": [],
   "source": [
    "def predict(cnn, idx_te, X, Y):\n",
    "    #1/ Predicting on finetuned model\n",
    "    dl_te = spectral_dataloader(X, Y, idxs=idx_te,\n",
    "        batch_size=batch_size, shuffle=False)\n",
    "    #t0 = time()\n",
    "    y_hat = get_predictions(cnn, dl_te, cuda)\n",
    "    #print('Finished: {:0.2f}s'.format(time()-t0))\n",
    "    #2/ Getting the right Y indices for comparing\n",
    "    Y_l = []\n",
    "    for i in range(len(Y)):\n",
    "        if i in idx_te:\n",
    "            Y_l.append(Y[i])\n",
    "    #3/ Computing accuracy and std\n",
    "    acc = (y_hat == Y_l).mean()\n",
    "    print('Accuracy: {:0.1f}%'.format(100*acc))\n",
    "    return acc, Y_l, y_hat"
   ]
  },
  {
   "cell_type": "code",
   "execution_count": 35,
   "id": "corresponding-three",
   "metadata": {},
   "outputs": [],
   "source": [
    "def results(num_model, idx_tr, idx_val, idx_te, fn_idx_te, X, Y):\n",
    "    list_acc=[]\n",
    "    #Average on 10 times\n",
    "    for i in range(10):\n",
    "        print(i+1)\n",
    "        #Load model\n",
    "        cnn, _, _ = load_model(num_model)\n",
    "        #finetune it owith custom split\n",
    "        finetune(cnn, idx_tr, idx_val, idx_te, X, Y)\n",
    "        #get accuracy to make an average and std on test set\n",
    "        list_acc.append(predict(cnn, fn_idx_te, X, Y)[0])\n",
    "    return list_acc"
   ]
  },
  {
   "cell_type": "markdown",
   "id": "uniform-rough",
   "metadata": {},
   "source": [
    "## Let's compare the results with/witout data augmentation"
   ]
  },
  {
   "cell_type": "markdown",
   "id": "neutral-proportion",
   "metadata": {},
   "source": [
    "### Repartition for tests"
   ]
  },
  {
   "cell_type": "code",
   "execution_count": 36,
   "id": "proper-nitrogen",
   "metadata": {},
   "outputs": [],
   "source": [
    "num_als=13\n",
    "num_ctrl = 7\n",
    "patient_idxs_finetune, patient_idxs_test = split_dataset(num_als, num_ctrl)\n",
    "patient_idxs = group_patients(patient_idxs_finetune)"
   ]
  },
  {
   "cell_type": "markdown",
   "id": "premier-coordination",
   "metadata": {},
   "source": [
    "#### WITHOUT"
   ]
  },
  {
   "cell_type": "code",
   "execution_count": 37,
   "id": "fifth-curve",
   "metadata": {},
   "outputs": [
    {
     "name": "stdout",
     "output_type": "stream",
     "text": [
      "Group 0 patients\n",
      " Tr: [11, 10, 16]\n",
      " Val: 25\n",
      " Te : 22\n",
      "11 [299, 305, 303, 309, 307, 302, 308, 304, 312, 300, 310, 301, 306, 311] 14\n",
      "10 [286, 293, 287, 290, 292, 297, 282, 283, 281, 294, 289, 285, 295, 291, 288, 284, 296, 298, 280] 19\n",
      "16 [353, 361, 362, 357, 359, 355, 360, 354, 356, 358] 10\n",
      "25 [546, 544, 548, 549, 543, 542, 547, 545, 550] 9\n",
      "22 [469, 479, 472, 475, 470, 483, 473, 471, 482, 480, 476, 477, 481, 478, 474] 15\n",
      "Group 1 patients\n",
      " Tr: [1, 3, 0]\n",
      " Val: 29\n",
      " Te : 13\n",
      "1 [72, 69, 63, 76, 67, 66, 64, 74, 73, 62, 70, 61, 65, 68, 60, 75, 77, 71] 18\n",
      "3 [141, 147, 144, 142, 114, 143, 123, 139, 122, 119, 118, 135, 127, 130, 136, 116, 126, 134, 148, 140, 133, 124, 132, 120, 125, 137, 146, 131, 149, 138, 145, 115, 121, 129, 117, 128] 36\n",
      "0 [27, 2, 28, 0, 56, 12, 21, 10, 51, 32, 5, 16, 57, 38, 3, 37, 53, 24, 1, 25, 29, 9, 8, 17, 13, 42, 40, 30, 23, 43, 39, 18, 54, 7, 11, 48, 31, 52, 19, 44, 22, 47, 14, 36, 46, 33, 4, 6, 41, 35, 55, 45, 20, 50, 58, 49, 15, 26, 34, 59] 60\n",
      "29 [586, 582, 590, 588, 581, 587, 584, 583, 585, 589] 10\n",
      "13 [331, 325, 324, 328, 326, 323, 327, 330, 329, 332] 10\n",
      "Group 2 patients\n",
      " Tr: [27, 7, 20]\n",
      " Val: 6\n",
      " Te : 14\n",
      "27 [569, 564, 561, 566, 570, 562, 567, 563, 565, 568] 10\n",
      "7 [235, 230, 237, 228, 226, 231, 229, 232, 238, 227, 240, 239, 234, 225, 236, 233] 16\n",
      "20 [404, 407, 412, 397, 418, 419, 410, 399, 422, 393, 411, 396, 395, 409, 400, 424, 423, 408, 414, 415, 394, 425, 402, 417, 398, 421, 420, 405, 406, 403, 401, 416, 413] 33\n",
      "6 [223, 210, 224, 214, 218, 215, 213, 217, 219, 222, 221, 212, 216, 211, 220] 15\n",
      "14 [335, 337, 341, 338, 333, 339, 340, 336, 334, 342] 10\n",
      "Group 3 patients\n",
      " Tr: [21, 5, 8]\n",
      " Val: 2\n",
      " Te : 24\n",
      "21 [438, 432, 431, 448, 446, 462, 441, 451, 460, 457, 444, 453, 433, 447, 452, 434, 456, 464, 459, 427, 430, 428, 454, 435, 449, 426, 461, 429, 467, 445, 463, 442, 443, 458, 450, 455, 436, 437, 466, 465, 440, 439, 468] 43\n",
      "5 [205, 194, 209, 208, 197, 203, 200, 198, 201, 204, 196, 195, 206, 199, 207, 202] 16\n",
      "8 [247, 249, 241, 253, 248, 244, 251, 242, 245, 254, 250, 243, 246, 252] 14\n",
      "2 [91, 106, 86, 96, 93, 79, 84, 92, 107, 82, 103, 81, 97, 101, 113, 112, 99, 105, 111, 100, 95, 108, 78, 88, 109, 80, 104, 94, 110, 83, 90, 102, 85, 89, 87, 98] 36\n",
      "24 [536, 533, 540, 538, 532, 534, 537, 531, 539, 541, 535] 11\n"
     ]
    }
   ],
   "source": [
    "idx_tr, idx_val, idx_te = custom_split_finetuning(patient_idxs, groups)"
   ]
  },
  {
   "cell_type": "code",
   "execution_count": 38,
   "id": "geological-completion",
   "metadata": {},
   "outputs": [
    {
     "name": "stdout",
     "output_type": "stream",
     "text": [
      "Number of samples to train the finetune model :  289  -> ALS :  203 , CTRL :  86\n",
      "Number of samples to validate the finetune model :  70  -> ALS :  51 , CTRL :  19\n",
      "Number of samples to test the finetune model :  46  -> ALS :  20 , CTRL :  26\n"
     ]
    }
   ],
   "source": [
    "n1 = len([i for i in idx_tr if i < 393])\n",
    "n2 = len([i for i in idx_val if i < 393])\n",
    "n3 = len([i for i in idx_te if i < 393])\n",
    "print(\"Number of samples to train the finetune model : \", len(idx_tr), \" -> ALS : \", n1, \", CTRL : \", len(idx_tr)-n1)\n",
    "print(\"Number of samples to validate the finetune model : \", len(idx_val), \" -> ALS : \", n2, \", CTRL : \", len(idx_val)-n2)\n",
    "print(\"Number of samples to test the finetune model : \", len(idx_te), \" -> ALS : \", n3, \", CTRL : \", len(idx_te)-n3)"
   ]
  },
  {
   "cell_type": "code",
   "execution_count": 39,
   "id": "ongoing-spectacular",
   "metadata": {},
   "outputs": [
    {
     "name": "stdout",
     "output_type": "stream",
     "text": [
      "Number of samples to test :  186  -> ALS :  119 , CTRL :  67\n"
     ]
    }
   ],
   "source": [
    "fn_idx_te = get_test_indices(patient_idxs_test, groups)\n",
    "m= len([i for i in fn_idx_te if i < 393])\n",
    "print(\"Number of samples to test : \", len(fn_idx_te), \" -> ALS : \", m, \", CTRL : \", len(fn_idx_te)-m)"
   ]
  },
  {
   "cell_type": "code",
   "execution_count": 40,
   "id": "appointed-entry",
   "metadata": {},
   "outputs": [
    {
     "name": "stdout",
     "output_type": "stream",
     "text": [
      "1\n",
      "key: linear.weight is removed\n",
      "key: linear.bias is removed\n",
      "Starting fine-tuning!\n",
      "  Train acc: 84.08\n",
      "  Val acc: 85.71\n",
      "  Test acc: 97.83\n",
      "Accuracy: 61.3%\n",
      "2\n",
      "key: linear.weight is removed\n",
      "key: linear.bias is removed\n",
      "Starting fine-tuning!\n",
      "  Train acc: 89.27\n",
      "  Val acc: 85.71\n",
      "  Test acc: 97.83\n",
      "Accuracy: 61.8%\n",
      "3\n",
      "key: linear.weight is removed\n",
      "key: linear.bias is removed\n",
      "Starting fine-tuning!\n",
      "  Train acc: 87.20\n",
      "  Val acc: 85.71\n",
      "  Test acc: 97.83\n",
      "Accuracy: 62.4%\n",
      "4\n",
      "key: linear.weight is removed\n",
      "key: linear.bias is removed\n",
      "Starting fine-tuning!\n",
      "  Train acc: 88.93\n",
      "  Val acc: 87.14\n",
      "  Test acc: 97.83\n",
      "Accuracy: 62.4%\n",
      "5\n",
      "key: linear.weight is removed\n",
      "key: linear.bias is removed\n",
      "Starting fine-tuning!\n",
      "  Train acc: 89.62\n",
      "  Val acc: 84.29\n",
      "  Test acc: 93.48\n",
      "Accuracy: 63.4%\n",
      "6\n",
      "key: linear.weight is removed\n",
      "key: linear.bias is removed\n",
      "Starting fine-tuning!\n",
      "  Train acc: 90.31\n",
      "  Val acc: 85.71\n",
      "  Test acc: 97.83\n",
      "Accuracy: 60.8%\n",
      "7\n",
      "key: linear.weight is removed\n",
      "key: linear.bias is removed\n",
      "Starting fine-tuning!\n",
      "  Train acc: 89.97\n",
      "  Val acc: 85.71\n",
      "  Test acc: 95.65\n",
      "Accuracy: 60.8%\n",
      "8\n",
      "key: linear.weight is removed\n",
      "key: linear.bias is removed\n",
      "Starting fine-tuning!\n",
      "  Train acc: 88.58\n",
      "  Val acc: 87.14\n",
      "  Test acc: 97.83\n",
      "Accuracy: 61.8%\n",
      "9\n",
      "key: linear.weight is removed\n",
      "key: linear.bias is removed\n",
      "Starting fine-tuning!\n",
      "  Train acc: 89.27\n",
      "  Val acc: 82.86\n",
      "  Test acc: 97.83\n",
      "Accuracy: 62.4%\n",
      "10\n",
      "key: linear.weight is removed\n",
      "key: linear.bias is removed\n",
      "Starting fine-tuning!\n",
      "  Train acc: 88.58\n",
      "  Val acc: 85.71\n",
      "  Test acc: 97.83\n",
      "Accuracy: 62.4%\n",
      "0.6193548387096774\n",
      "0.0079015798154296\n"
     ]
    }
   ],
   "source": [
    "list_acc = results(1, idx_tr, idx_val, idx_te, fn_idx_te, X, Y)\n",
    "print(mean(list_acc))\n",
    "print(np.std(list_acc))"
   ]
  },
  {
   "cell_type": "markdown",
   "id": "blocked-access",
   "metadata": {},
   "source": [
    "### WITH"
   ]
  },
  {
   "cell_type": "code",
   "execution_count": 41,
   "id": "large-pharmaceutical",
   "metadata": {},
   "outputs": [
    {
     "name": "stdout",
     "output_type": "stream",
     "text": [
      "Group 0 patients\n",
      " Tr: [11, 10, 16]\n",
      " Val: 25\n",
      " Te : 22\n",
      "11 [311, 303, 308, 299, 310, 305, 309, 306, 312, 304, 307, 300, 301, 302] 14\n",
      "10 [289, 294, 298, 296, 283, 287, 284, 295, 291, 293, 282, 285, 288, 280, 290, 297, 281, 286, 292] 19\n",
      "16 [384, 408, 404, 405, 398, 392, 390, 412, 414, 415, 409, 387, 389, 418, 413, 401, 422, 383, 417, 391, 410, 402, 386, 421, 407, 388, 420, 393, 395, 411, 394, 400, 406, 416, 396, 399, 403, 419, 385, 397] 40\n",
      "25 [1150, 1169, 1146, 1143, 1156, 1172, 1163, 1144, 1164, 1140, 1141, 1167, 1171, 1147, 1142, 1154, 1152, 1151, 1170, 1159, 1160, 1165, 1149, 1161, 1174, 1153, 1157, 1173, 1166, 1168, 1155, 1139, 1148, 1145, 1162, 1158] 36\n",
      "22 [886, 873, 890, 857, 859, 897, 882, 877, 863, 869, 862, 879, 872, 906, 853, 898, 868, 855, 850, 875, 856, 860, 852, 903, 848, 884, 894, 892, 887, 904, 893, 902, 889, 878, 896, 901, 867, 858, 899, 900, 880, 865, 861, 864, 866, 888, 905, 849, 885, 870, 876, 883, 871, 874, 881, 854, 895, 847, 891, 851] 60\n",
      "Group 1 patients\n",
      " Tr: [1, 3, 0]\n",
      " Val: 29\n",
      " Te : 13\n",
      "1 [71, 69, 75, 68, 66, 65, 64, 67, 62, 63, 76, 70, 73, 61, 74, 72, 77, 60] 18\n",
      "3 [125, 116, 142, 126, 123, 135, 115, 139, 122, 144, 128, 119, 114, 133, 138, 132, 129, 134, 141, 130, 149, 136, 145, 120, 146, 140, 118, 127, 124, 143, 137, 148, 147, 121, 131, 117] 36\n",
      "0 [43, 47, 56, 10, 30, 4, 3, 24, 12, 27, 19, 7, 34, 0, 38, 1, 26, 37, 21, 40, 46, 57, 29, 55, 20, 33, 8, 52, 39, 32, 53, 41, 6, 14, 13, 22, 44, 15, 50, 54, 31, 11, 16, 23, 35, 5, 48, 59, 42, 45, 36, 58, 2, 9, 28, 17, 25, 49, 51, 18] 60\n",
      "29 [1327, 1309, 1301, 1322, 1320, 1313, 1310, 1303, 1307, 1305, 1328, 1296, 1315, 1333, 1298, 1308, 1325, 1316, 1314, 1297, 1299, 1302, 1326, 1300, 1304, 1318, 1306, 1317, 1329, 1324, 1331, 1323, 1312, 1319, 1330, 1321, 1332, 1334, 1295, 1311] 40\n",
      "13 [328, 323, 332, 324, 330, 331, 325, 327, 329, 326] 10\n",
      "Group 2 patients\n",
      " Tr: [27, 7, 20]\n",
      " Val: 6\n",
      " Te : 14\n",
      "27 [1250, 1217, 1227, 1252, 1247, 1249, 1240, 1220, 1230, 1244, 1231, 1251, 1236, 1253, 1221, 1241, 1235, 1225, 1237, 1242, 1229, 1245, 1234, 1218, 1248, 1216, 1215, 1222, 1226, 1246, 1238, 1228, 1239, 1243, 1224, 1254, 1233, 1219, 1232, 1223] 40\n",
      "7 [239, 233, 236, 228, 235, 225, 238, 240, 234, 226, 230, 237, 232, 227, 231, 229] 16\n",
      "20 [668, 660, 607, 593, 635, 550, 554, 626, 598, 649, 544, 645, 659, 641, 570, 637, 558, 578, 616, 546, 599, 608, 664, 601, 623, 643, 633, 567, 551, 553, 610, 657, 640, 561, 589, 587, 642, 605, 658, 588, 670, 648, 674, 661, 562, 600, 572, 647, 603, 545, 624, 602, 585, 559, 652, 627, 646, 575, 671, 552, 667, 672, 577, 556, 597, 565, 651, 568, 564, 622, 566, 606, 611, 612, 619, 549, 569, 594, 654, 584, 631, 629, 543, 595, 665, 592, 609, 638, 653, 634, 576, 617, 666, 628, 615, 548, 636, 669, 563, 662, 581, 596, 673, 555, 604, 573, 614, 650, 574, 586, 557, 571, 560, 655, 582, 639, 547, 591, 630, 580, 663, 632, 644, 590, 618, 625, 613, 656, 579, 620, 621, 583] 132\n",
      "6 [214, 223, 216, 224, 222, 215, 212, 211, 221, 220, 217, 219, 218, 213, 210] 15\n",
      "14 [335, 340, 337, 336, 339, 338, 334, 341, 342, 333] 10\n",
      "Group 3 patients\n",
      " Tr: [21, 5, 8]\n",
      " Val: 2\n",
      " Te : 24\n",
      "21 [757, 814, 735, 747, 754, 723, 819, 755, 726, 790, 791, 739, 760, 743, 751, 677, 703, 745, 715, 816, 786, 734, 704, 713, 729, 806, 750, 764, 710, 832, 809, 823, 737, 695, 813, 702, 838, 768, 683, 736, 719, 740, 780, 728, 774, 825, 831, 787, 727, 676, 835, 798, 687, 788, 773, 796, 770, 839, 801, 810, 692, 845, 824, 733, 716, 785, 804, 833, 766, 690, 805, 840, 725, 834, 807, 684, 741, 762, 829, 800, 781, 782, 779, 836, 714, 701, 709, 748, 826, 708, 720, 699, 821, 730, 767, 742, 738, 681, 731, 822, 722, 688, 698, 797, 795, 705, 784, 772, 846, 678, 811, 686, 746, 732, 675, 820, 802, 691, 812, 685, 749, 712, 717, 793, 771, 775, 830, 711, 744, 721, 776, 682, 759, 837, 700, 827, 799, 724, 694, 794, 707, 843, 697, 706, 679, 842, 689, 841, 680, 752, 769, 777, 783, 763, 758, 756, 828, 815, 761, 718, 696, 792, 693, 765, 817, 818, 753, 803, 844, 789, 808, 778] 172\n",
      "5 [195, 197, 209, 200, 196, 207, 198, 201, 203, 204, 199, 208, 194, 206, 202, 205] 16\n",
      "8 [251, 254, 243, 241, 250, 247, 249, 246, 244, 242, 253, 252, 245, 248] 14\n",
      "2 [80, 110, 104, 100, 102, 94, 82, 105, 78, 97, 88, 107, 113, 86, 87, 99, 92, 106, 101, 84, 109, 83, 91, 81, 85, 103, 95, 108, 93, 79, 98, 96, 90, 111, 89, 112] 36\n",
      "24 [1133, 1100, 1102, 1120, 1121, 1098, 1123, 1136, 1119, 1137, 1099, 1128, 1107, 1096, 1101, 1125, 1112, 1111, 1129, 1104, 1116, 1103, 1097, 1118, 1110, 1095, 1105, 1114, 1132, 1106, 1126, 1124, 1138, 1130, 1109, 1135, 1127, 1134, 1131, 1113, 1115, 1117, 1122, 1108] 44\n"
     ]
    }
   ],
   "source": [
    "idx_tr, idx_val, idx_te = custom_split_finetuning(patient_idxs, groups_augmented)"
   ]
  },
  {
   "cell_type": "code",
   "execution_count": 42,
   "id": "favorite-egyptian",
   "metadata": {},
   "outputs": [
    {
     "name": "stdout",
     "output_type": "stream",
     "text": [
      "Number of samples to train the finetune model :  577  -> ALS :  203 , CTRL :  374\n",
      "Number of samples to validate the finetune model :  127  -> ALS :  51 , CTRL :  76\n",
      "Number of samples to test the finetune model :  124  -> ALS :  20 , CTRL :  104\n"
     ]
    }
   ],
   "source": [
    "n1 = len([i for i in idx_tr if i < 393])\n",
    "n2 = len([i for i in idx_val if i < 393])\n",
    "n3 = len([i for i in idx_te if i < 393])\n",
    "print(\"Number of samples to train the finetune model : \", len(idx_tr), \" -> ALS : \", n1, \", CTRL : \", len(idx_tr)-n1)\n",
    "print(\"Number of samples to validate the finetune model : \", len(idx_val), \" -> ALS : \", n2, \", CTRL : \", len(idx_val)-n2)\n",
    "print(\"Number of samples to test the finetune model : \", len(idx_te), \" -> ALS : \", n3, \", CTRL : \", len(idx_te)-n3)"
   ]
  },
  {
   "cell_type": "code",
   "execution_count": 43,
   "id": "aquatic-potter",
   "metadata": {},
   "outputs": [
    {
     "name": "stdout",
     "output_type": "stream",
     "text": [
      "Number of samples to test :  507  -> ALS :  119 , CTRL :  388\n"
     ]
    }
   ],
   "source": [
    "fn_idx_te = get_test_indices(patient_idxs_test, groups_augmented)\n",
    "m= len([i for i in fn_idx_te if i < 393])\n",
    "print(\"Number of samples to test : \", len(fn_idx_te), \" -> ALS : \", m, \", CTRL : \", len(fn_idx_te)-m)"
   ]
  },
  {
   "cell_type": "code",
   "execution_count": 44,
   "id": "cognitive-brake",
   "metadata": {},
   "outputs": [
    {
     "name": "stdout",
     "output_type": "stream",
     "text": [
      "1\n",
      "key: linear.weight is removed\n",
      "key: linear.bias is removed\n",
      "Starting fine-tuning!\n",
      "  Train acc: 91.16\n",
      "  Val acc: 74.02\n",
      "  Test acc: 100.00\n",
      "Accuracy: 74.4%\n",
      "2\n",
      "key: linear.weight is removed\n",
      "key: linear.bias is removed\n",
      "Starting fine-tuning!\n",
      "  Train acc: 92.89\n",
      "  Val acc: 70.08\n",
      "  Test acc: 100.00\n",
      "Accuracy: 76.3%\n",
      "3\n",
      "key: linear.weight is removed\n",
      "key: linear.bias is removed\n",
      "Starting fine-tuning!\n",
      "  Train acc: 93.07\n",
      "  Val acc: 73.23\n",
      "  Test acc: 100.00\n",
      "Accuracy: 74.8%\n",
      "4\n",
      "key: linear.weight is removed\n",
      "key: linear.bias is removed\n",
      "Starting fine-tuning!\n",
      "  Train acc: 93.41\n",
      "  Val acc: 76.38\n",
      "  Test acc: 100.00\n",
      "Accuracy: 76.1%\n",
      "5\n",
      "key: linear.weight is removed\n",
      "key: linear.bias is removed\n",
      "Starting fine-tuning!\n",
      "  Train acc: 93.76\n",
      "  Val acc: 76.38\n",
      "  Test acc: 100.00\n",
      "Accuracy: 74.6%\n",
      "6\n",
      "key: linear.weight is removed\n",
      "key: linear.bias is removed\n",
      "Starting fine-tuning!\n",
      "  Train acc: 92.37\n",
      "  Val acc: 77.95\n",
      "  Test acc: 100.00\n",
      "Accuracy: 71.2%\n",
      "7\n",
      "key: linear.weight is removed\n",
      "key: linear.bias is removed\n",
      "Starting fine-tuning!\n",
      "  Train acc: 92.03\n",
      "  Val acc: 71.65\n",
      "  Test acc: 100.00\n",
      "Accuracy: 74.2%\n",
      "8\n",
      "key: linear.weight is removed\n",
      "key: linear.bias is removed\n",
      "Starting fine-tuning!\n",
      "  Train acc: 94.80\n",
      "  Val acc: 77.17\n",
      "  Test acc: 100.00\n",
      "Accuracy: 74.4%\n",
      "9\n",
      "key: linear.weight is removed\n",
      "key: linear.bias is removed\n",
      "Starting fine-tuning!\n",
      "  Train acc: 92.72\n",
      "  Val acc: 78.74\n",
      "  Test acc: 100.00\n",
      "Accuracy: 74.0%\n",
      "10\n",
      "key: linear.weight is removed\n",
      "key: linear.bias is removed\n",
      "Starting fine-tuning!\n",
      "  Train acc: 92.37\n",
      "  Val acc: 70.87\n",
      "  Test acc: 100.00\n",
      "Accuracy: 74.8%\n",
      "0.7445759368836292\n",
      "0.013209101104736278\n"
     ]
    }
   ],
   "source": [
    "list_acc = results(1, idx_tr, idx_val, idx_te, fn_idx_te, X_augmented, Y_augmented)\n",
    "print(mean(list_acc))\n",
    "print(np.std(list_acc))"
   ]
  },
  {
   "cell_type": "markdown",
   "id": "responsible-cancellation",
   "metadata": {},
   "source": [
    "## Confusion matrix TL + data augmentation "
   ]
  },
  {
   "cell_type": "code",
   "execution_count": 45,
   "id": "yellow-committee",
   "metadata": {},
   "outputs": [],
   "source": [
    "import seaborn as sns\n",
    "from sklearn.metrics import confusion_matrix\n",
    "import matplotlib.pyplot as plt\n",
    "%matplotlib inline"
   ]
  },
  {
   "cell_type": "code",
   "execution_count": 46,
   "id": "honey-taste",
   "metadata": {},
   "outputs": [
    {
     "name": "stdout",
     "output_type": "stream",
     "text": [
      "key: linear.weight is removed\n",
      "key: linear.bias is removed\n",
      "Starting fine-tuning!\n",
      "  Train acc: 94.11\n",
      "  Val acc: 77.17\n",
      "  Test acc: 100.00\n",
      "Accuracy: 74.4%\n"
     ]
    }
   ],
   "source": [
    "cnn, _, _ = load_model(1)\n",
    "#finetune it owith custom split\n",
    "finetune(cnn, idx_tr, idx_val, idx_te, X_augmented, Y_augmented)\n",
    "acc, y, y_hat = predict(cnn, fn_idx_te, X_augmented, Y_augmented)"
   ]
  },
  {
   "cell_type": "code",
   "execution_count": 47,
   "id": "smaller-premises",
   "metadata": {},
   "outputs": [
    {
     "data": {
      "image/png": "[encoded data removed]",
      "text/plain": [
       "<Figure size 576x576 with 2 Axes>"
      ]
     },
     "metadata": {
      "needs_background": "light"
     },
     "output_type": "display_data"
    }
   ],
   "source": [
    "# Plot confusion matrix\n",
    "sns.set_context(\"talk\", rc={\"font\":\"Helvetica\", \"font.size\":12})\n",
    "label = [\"CTRL\", \"ALS\"]\n",
    "cm = confusion_matrix(y, y_hat, labels=[0, 1])\n",
    "plt.figure(figsize=(8, 8))\n",
    "cm = 100 * cm / cm.sum(axis=1)[:,np.newaxis]\n",
    "ax = sns.heatmap(cm, annot=True, cmap='YlGnBu', fmt='0.0f',\n",
    "                 xticklabels=label, yticklabels=label)\n",
    "ax.xaxis.tick_top()\n",
    "plt.xticks(rotation=90) \n",
    "plt.show()"
   ]
  },
  {
   "cell_type": "code",
   "execution_count": null,
   "id": "blind-assumption",
   "metadata": {},
   "outputs": [],
   "source": []
  }
 ],
 "metadata": {
  "kernelspec": {
   "display_name": "Python [conda env:ml] *",
   "language": "python",
   "name": "conda-env-ml-py"
  },
  "language_info": {
   "codemirror_mode": {
    "name": "ipython",
    "version": 3
   },
   "file_extension": ".py",
   "mimetype": "text/x-python",
   "name": "python",
   "nbconvert_exporter": "python",
   "pygments_lexer": "ipython3",
   "version": "3.6.9"
  }
 },
 "nbformat": 4,
 "nbformat_minor": 5
}
