{
 "cells": [
  {
   "cell_type": "markdown",
   "metadata": {},
   "source": [
    "# Features extractor using data augmentation\n",
    "The aims of this file is to try the method of data augmentation of the previous file, combined with the \"best\" features extractor created in file 4."
   ]
  },
  {
   "cell_type": "markdown",
   "metadata": {},
   "source": [
    "## Librairies"
   ]
  },
  {
   "cell_type": "code",
   "execution_count": 1,
   "metadata": {},
   "outputs": [
    {
     "name": "stderr",
     "output_type": "stream",
     "text": [
      "Using TensorFlow backend.\n"
     ]
    }
   ],
   "source": [
    "from data_loader import load_data\n",
    "import os, sys\n",
    "import random\n",
    "import numpy as np\n",
    "import torch\n",
    "from collections import OrderedDict\n",
    "from extractor import Extractor\n",
    "from time import time\n",
    "from statistics import mean\n",
    "from sklearn.metrics import accuracy_score\n",
    "from keras import Model\n",
    "from keras import Input\n",
    "from keras import layers\n",
    "from keras.callbacks import EarlyStopping, ModelCheckpoint\n",
    "from keras.optimizers import Adam\n",
    "from keras.utils import plot_model\n",
    "import matplotlib.pyplot as plt\n",
    "import seaborn as sns\n",
    "from sklearn.metrics import confusion_matrix"
   ]
  },
  {
   "cell_type": "markdown",
   "metadata": {},
   "source": [
    "## Pre-trained models"
   ]
  },
  {
   "cell_type": "code",
   "execution_count": 2,
   "metadata": {},
   "outputs": [],
   "source": [
    "os.chdir(os.getcwd())\n",
    "models_dir = 'Bacteria_TL'\n",
    "sys.path.append(models_dir)"
   ]
  },
  {
   "cell_type": "code",
   "execution_count": 3,
   "metadata": {},
   "outputs": [],
   "source": [
    "from training import get_predictions\n",
    "from datasets import spectral_dataloader"
   ]
  },
  {
   "cell_type": "code",
   "execution_count": 4,
   "metadata": {},
   "outputs": [],
   "source": [
    "models = ['pretrained_model.ckpt', 'finetuned_model.ckpt', 'clinical_pretrained_model.ckpt']"
   ]
  },
  {
   "cell_type": "markdown",
   "metadata": {},
   "source": [
    "## Load data"
   ]
  },
  {
   "cell_type": "code",
   "execution_count": 5,
   "metadata": {},
   "outputs": [],
   "source": [
    "X, Y, groups, _ = load_data()"
   ]
  },
  {
   "cell_type": "markdown",
   "metadata": {},
   "source": [
    "## Data augmentation"
   ]
  },
  {
   "cell_type": "markdown",
   "metadata": {},
   "source": [
    "### Utility functions and parameters"
   ]
  },
  {
   "cell_type": "code",
   "execution_count": 6,
   "metadata": {},
   "outputs": [],
   "source": [
    "def get(patient, groups):\n",
    "    l= np.where(groups == patient)\n",
    "    start_idx = l[0][0]\n",
    "    end_idx = l[0][len(l[0])-1]\n",
    "    idx_range = list(range(start_idx, end_idx+1))\n",
    "    return idx_range"
   ]
  },
  {
   "cell_type": "code",
   "execution_count": 7,
   "metadata": {},
   "outputs": [],
   "source": [
    "def standard_deviation_mean(X):\n",
    "    full=[]\n",
    "    for i in X:\n",
    "        for j in i:\n",
    "            full.append(j)\n",
    "    return np.std(full), mean(full)"
   ]
  },
  {
   "cell_type": "code",
   "execution_count": 8,
   "metadata": {},
   "outputs": [],
   "source": [
    "stdf, meanf = standard_deviation_mean(X)"
   ]
  },
  {
   "cell_type": "markdown",
   "metadata": {},
   "source": [
    "### Data augmentation functions"
   ]
  },
  {
   "cell_type": "code",
   "execution_count": 9,
   "metadata": {},
   "outputs": [],
   "source": [
    "def offset_func(spectrum):\n",
    "    X_offset=[]\n",
    "    r=random.sample([-0.1,0.1], 1)[0]\n",
    "    for i in spectrum:\n",
    "        res = i+(r*stdf)\n",
    "        if res > 0:\n",
    "            X_offset.append(res)\n",
    "        else:\n",
    "            X_offset.append(0)\n",
    "    return X_offset"
   ]
  },
  {
   "cell_type": "code",
   "execution_count": 10,
   "metadata": {},
   "outputs": [],
   "source": [
    "def multiplication_func(spectrum):\n",
    "    X_multiplication=[]\n",
    "    r=random.uniform(0.9, 1.1)\n",
    "    for i in spectrum:\n",
    "        X_multiplication.append(i*r*stdf)\n",
    "    return X_multiplication"
   ]
  },
  {
   "cell_type": "code",
   "execution_count": 11,
   "metadata": {},
   "outputs": [],
   "source": [
    "def gaussian_noise_func(spectrum):\n",
    "    noise = np.random.normal(meanf,stdf,len(spectrum))\n",
    "    X_gaussian = []\n",
    "    for i in range(len(spectrum)):\n",
    "        res = spectrum[i]+noise[i]\n",
    "        if res > 0:\n",
    "            X_gaussian.append(res)\n",
    "        else:\n",
    "            X_gaussian.append(0)\n",
    "    return X_gaussian"
   ]
  },
  {
   "cell_type": "code",
   "execution_count": 12,
   "metadata": {},
   "outputs": [],
   "source": [
    "def data_augmentation(spectrum):\n",
    "    return offset_func(spectrum), multiplication_func(spectrum), gaussian_noise_func(spectrum)"
   ]
  },
  {
   "cell_type": "code",
   "execution_count": 13,
   "metadata": {},
   "outputs": [],
   "source": [
    "def augment(X_augmented, Y_augmented, groups_augmented, n, als):\n",
    "    X_added=[]\n",
    "    spectra_ind = get(n, groups_augmented)\n",
    "    for spectrumID in spectra_ind:\n",
    "        spectrum=X_augmented[spectrumID]\n",
    "        offset, multiplication, gaussian_noise = data_augmentation(spectrum)\n",
    "        inser = spectrumID\n",
    "        X_added.append(offset)\n",
    "        X_added.append(multiplication)\n",
    "        X_added.append(gaussian_noise)\n",
    "    last = spectra_ind[-1]+1\n",
    "    for i in range(len(X_added)):\n",
    "        X_augmented = np.insert(X_augmented, last+i, X_added[i], axis=0)\n",
    "        Y_augmented = np.insert(Y_augmented, last+i, als)\n",
    "        groups_augmented = np.insert(groups_augmented, last+i, n)\n",
    "    return X_augmented, Y_augmented, groups_augmented"
   ]
  },
  {
   "cell_type": "markdown",
   "metadata": {},
   "source": [
    "### Augmentation of data"
   ]
  },
  {
   "cell_type": "code",
   "execution_count": 14,
   "metadata": {},
   "outputs": [],
   "source": [
    "X_augmented = X\n",
    "Y_augmented = Y\n",
    "groups_augmented = groups"
   ]
  },
  {
   "cell_type": "code",
   "execution_count": 15,
   "metadata": {},
   "outputs": [],
   "source": [
    "for i in range(15, 20):\n",
    "    X_augmented, Y_augmented, groups_augmented = augment(X_augmented, Y_augmented, groups_augmented, i, 1)"
   ]
  },
  {
   "cell_type": "code",
   "execution_count": 16,
   "metadata": {},
   "outputs": [],
   "source": [
    "for i in range(20, 30):\n",
    "    X_augmented, Y_augmented, groups_augmented = augment(X_augmented, Y_augmented, groups_augmented, i, 0)"
   ]
  },
  {
   "cell_type": "markdown",
   "metadata": {},
   "source": [
    "## Split dataset"
   ]
  },
  {
   "cell_type": "markdown",
   "metadata": {},
   "source": [
    "### Utility function"
   ]
  },
  {
   "cell_type": "code",
   "execution_count": 17,
   "metadata": {},
   "outputs": [],
   "source": [
    "def createSplit(X, Y, groups, groups_selected):\n",
    "    X_split = []\n",
    "    Y_split = []\n",
    "    for i in range(len(X)):\n",
    "        if(groups[i] in groups_selected):\n",
    "            X_split.append(X[i])\n",
    "            Y_split.append(Y[i])\n",
    "    return np.array(X_split), np.array(Y_split)"
   ]
  },
  {
   "cell_type": "markdown",
   "metadata": {},
   "source": [
    "### Split\n",
    "Augmented data are only use for training and validation set. Original data are keeped for test set."
   ]
  },
  {
   "cell_type": "code",
   "execution_count": 18,
   "metadata": {},
   "outputs": [],
   "source": [
    "selected_groups = random.sample(range(0, 30), 30)\n",
    "train_groups = selected_groups[:18]\n",
    "validation_groups = selected_groups[18:24]\n",
    "test_groups = selected_groups[24:]"
   ]
  },
  {
   "cell_type": "code",
   "execution_count": 19,
   "metadata": {},
   "outputs": [],
   "source": [
    "X_train, Y_train = createSplit(X_augmented, Y_augmented, groups_augmented, train_groups)\n",
    "X_validation, Y_validation = createSplit(X_augmented, Y_augmented, groups_augmented, validation_groups)\n",
    "X_test, Y_test = createSplit(X, Y, groups, test_groups)"
   ]
  },
  {
   "cell_type": "markdown",
   "metadata": {},
   "source": [
    "## Features extractor"
   ]
  },
  {
   "cell_type": "markdown",
   "metadata": {},
   "source": [
    "### Pre-trained parameters"
   ]
  },
  {
   "cell_type": "code",
   "execution_count": 20,
   "metadata": {},
   "outputs": [],
   "source": [
    "base_layers = 6\n",
    "hidden_size = 100\n",
    "block_size = 2\n",
    "input_dim = 1174\n",
    "in_channels = 64\n",
    "os.environ['CUDA_VISIBLE_DEVICES'] = '{}'.format(0)\n",
    "cuda = torch.cuda.is_available()\n",
    "base_to_remove = ['linear.weight', 'linear.bias']"
   ]
  },
  {
   "cell_type": "markdown",
   "metadata": {},
   "source": [
    "### Utility functions"
   ]
  },
  {
   "cell_type": "code",
   "execution_count": 21,
   "metadata": {},
   "outputs": [],
   "source": [
    "def removekey(d, block):\n",
    "    r = dict(d)\n",
    "    copy = r.copy()\n",
    "    toRemove = [base_to_remove]\n",
    "    if block != 0:\n",
    "        toRemove.append('encoder.5')\n",
    "    if block == 2:\n",
    "        toRemove.append('encoder.4')\n",
    "    \n",
    "    for key in copy.keys():\n",
    "        if (key in toRemove[0]):\n",
    "            r.pop(key)\n",
    "        if len(toRemove) > 1:\n",
    "            if key.startswith(toRemove[1]):\n",
    "                r.pop(key)\n",
    "        if len(toRemove) == 3:\n",
    "            if key.startswith(toRemove[2]):\n",
    "                r.pop(key)\n",
    "        \n",
    "    return OrderedDict(r)"
   ]
  },
  {
   "cell_type": "code",
   "execution_count": 22,
   "metadata": {},
   "outputs": [],
   "source": [
    "def load_model(modelToLoad, numberOfBlockToRemove):\n",
    "    layers = base_layers - numberOfBlockToRemove\n",
    "    hidden_sizes = [hidden_size] * layers\n",
    "    num_blocks = [block_size] * layers\n",
    "    model = Extractor(hidden_sizes, num_blocks)\n",
    "    \n",
    "    if cuda: model.cuda()\n",
    "    \n",
    "    checkpoint = torch.load(models_dir + '/' + modelToLoad, map_location=lambda storage, loc: storage)\n",
    "    mod_weights = removekey(checkpoint, numberOfBlockToRemove)\n",
    "    model.load_state_dict(mod_weights, strict=True)\n",
    "    \n",
    "    return model, mod_weights, checkpoint"
   ]
  },
  {
   "cell_type": "markdown",
   "metadata": {},
   "source": [
    "### Extractor\n",
    "The model used is the \"Finetuned\" one. The last block is removed."
   ]
  },
  {
   "cell_type": "code",
   "execution_count": 23,
   "metadata": {},
   "outputs": [],
   "source": [
    "extractor, _, _ = load_model(models[1], 1)"
   ]
  },
  {
   "cell_type": "code",
   "execution_count": 24,
   "metadata": {},
   "outputs": [
    {
     "name": "stdout",
     "output_type": "stream",
     "text": [
      "Extractor(\n",
      "  (conv1): Conv1d(1, 64, kernel_size=(5,), stride=(1,), padding=(2,), bias=False)\n",
      "  (bn1): BatchNorm1d(64, eps=1e-05, momentum=0.1, affine=True, track_running_stats=True)\n",
      "  (encoder): Sequential(\n",
      "    (0): Sequential(\n",
      "      (0): ResidualBlock(\n",
      "        (conv1): Conv1d(64, 100, kernel_size=(5,), stride=(1,), padding=(2,), bias=False)\n",
      "        (bn1): BatchNorm1d(100, eps=1e-05, momentum=0.1, affine=True, track_running_stats=True)\n",
      "        (conv2): Conv1d(100, 100, kernel_size=(5,), stride=(1,), padding=(2,), bias=False)\n",
      "        (bn2): BatchNorm1d(100, eps=1e-05, momentum=0.1, affine=True, track_running_stats=True)\n",
      "        (shortcut): Sequential(\n",
      "          (0): Conv1d(64, 100, kernel_size=(1,), stride=(1,), bias=False)\n",
      "          (1): BatchNorm1d(100, eps=1e-05, momentum=0.1, affine=True, track_running_stats=True)\n",
      "        )\n",
      "      )\n",
      "      (1): ResidualBlock(\n",
      "        (conv1): Conv1d(100, 100, kernel_size=(5,), stride=(1,), padding=(2,), bias=False)\n",
      "        (bn1): BatchNorm1d(100, eps=1e-05, momentum=0.1, affine=True, track_running_stats=True)\n",
      "        (conv2): Conv1d(100, 100, kernel_size=(5,), stride=(1,), padding=(2,), bias=False)\n",
      "        (bn2): BatchNorm1d(100, eps=1e-05, momentum=0.1, affine=True, track_running_stats=True)\n",
      "        (shortcut): Sequential()\n",
      "      )\n",
      "    )\n",
      "    (1): Sequential(\n",
      "      (0): ResidualBlock(\n",
      "        (conv1): Conv1d(100, 100, kernel_size=(5,), stride=(2,), padding=(2,), bias=False)\n",
      "        (bn1): BatchNorm1d(100, eps=1e-05, momentum=0.1, affine=True, track_running_stats=True)\n",
      "        (conv2): Conv1d(100, 100, kernel_size=(5,), stride=(1,), padding=(2,), bias=False)\n",
      "        (bn2): BatchNorm1d(100, eps=1e-05, momentum=0.1, affine=True, track_running_stats=True)\n",
      "        (shortcut): Sequential(\n",
      "          (0): Conv1d(100, 100, kernel_size=(1,), stride=(2,), bias=False)\n",
      "          (1): BatchNorm1d(100, eps=1e-05, momentum=0.1, affine=True, track_running_stats=True)\n",
      "        )\n",
      "      )\n",
      "      (1): ResidualBlock(\n",
      "        (conv1): Conv1d(100, 100, kernel_size=(5,), stride=(1,), padding=(2,), bias=False)\n",
      "        (bn1): BatchNorm1d(100, eps=1e-05, momentum=0.1, affine=True, track_running_stats=True)\n",
      "        (conv2): Conv1d(100, 100, kernel_size=(5,), stride=(1,), padding=(2,), bias=False)\n",
      "        (bn2): BatchNorm1d(100, eps=1e-05, momentum=0.1, affine=True, track_running_stats=True)\n",
      "        (shortcut): Sequential()\n",
      "      )\n",
      "    )\n",
      "    (2): Sequential(\n",
      "      (0): ResidualBlock(\n",
      "        (conv1): Conv1d(100, 100, kernel_size=(5,), stride=(2,), padding=(2,), bias=False)\n",
      "        (bn1): BatchNorm1d(100, eps=1e-05, momentum=0.1, affine=True, track_running_stats=True)\n",
      "        (conv2): Conv1d(100, 100, kernel_size=(5,), stride=(1,), padding=(2,), bias=False)\n",
      "        (bn2): BatchNorm1d(100, eps=1e-05, momentum=0.1, affine=True, track_running_stats=True)\n",
      "        (shortcut): Sequential(\n",
      "          (0): Conv1d(100, 100, kernel_size=(1,), stride=(2,), bias=False)\n",
      "          (1): BatchNorm1d(100, eps=1e-05, momentum=0.1, affine=True, track_running_stats=True)\n",
      "        )\n",
      "      )\n",
      "      (1): ResidualBlock(\n",
      "        (conv1): Conv1d(100, 100, kernel_size=(5,), stride=(1,), padding=(2,), bias=False)\n",
      "        (bn1): BatchNorm1d(100, eps=1e-05, momentum=0.1, affine=True, track_running_stats=True)\n",
      "        (conv2): Conv1d(100, 100, kernel_size=(5,), stride=(1,), padding=(2,), bias=False)\n",
      "        (bn2): BatchNorm1d(100, eps=1e-05, momentum=0.1, affine=True, track_running_stats=True)\n",
      "        (shortcut): Sequential()\n",
      "      )\n",
      "    )\n",
      "    (3): Sequential(\n",
      "      (0): ResidualBlock(\n",
      "        (conv1): Conv1d(100, 100, kernel_size=(5,), stride=(2,), padding=(2,), bias=False)\n",
      "        (bn1): BatchNorm1d(100, eps=1e-05, momentum=0.1, affine=True, track_running_stats=True)\n",
      "        (conv2): Conv1d(100, 100, kernel_size=(5,), stride=(1,), padding=(2,), bias=False)\n",
      "        (bn2): BatchNorm1d(100, eps=1e-05, momentum=0.1, affine=True, track_running_stats=True)\n",
      "        (shortcut): Sequential(\n",
      "          (0): Conv1d(100, 100, kernel_size=(1,), stride=(2,), bias=False)\n",
      "          (1): BatchNorm1d(100, eps=1e-05, momentum=0.1, affine=True, track_running_stats=True)\n",
      "        )\n",
      "      )\n",
      "      (1): ResidualBlock(\n",
      "        (conv1): Conv1d(100, 100, kernel_size=(5,), stride=(1,), padding=(2,), bias=False)\n",
      "        (bn1): BatchNorm1d(100, eps=1e-05, momentum=0.1, affine=True, track_running_stats=True)\n",
      "        (conv2): Conv1d(100, 100, kernel_size=(5,), stride=(1,), padding=(2,), bias=False)\n",
      "        (bn2): BatchNorm1d(100, eps=1e-05, momentum=0.1, affine=True, track_running_stats=True)\n",
      "        (shortcut): Sequential()\n",
      "      )\n",
      "    )\n",
      "    (4): Sequential(\n",
      "      (0): ResidualBlock(\n",
      "        (conv1): Conv1d(100, 100, kernel_size=(5,), stride=(2,), padding=(2,), bias=False)\n",
      "        (bn1): BatchNorm1d(100, eps=1e-05, momentum=0.1, affine=True, track_running_stats=True)\n",
      "        (conv2): Conv1d(100, 100, kernel_size=(5,), stride=(1,), padding=(2,), bias=False)\n",
      "        (bn2): BatchNorm1d(100, eps=1e-05, momentum=0.1, affine=True, track_running_stats=True)\n",
      "        (shortcut): Sequential(\n",
      "          (0): Conv1d(100, 100, kernel_size=(1,), stride=(2,), bias=False)\n",
      "          (1): BatchNorm1d(100, eps=1e-05, momentum=0.1, affine=True, track_running_stats=True)\n",
      "        )\n",
      "      )\n",
      "      (1): ResidualBlock(\n",
      "        (conv1): Conv1d(100, 100, kernel_size=(5,), stride=(1,), padding=(2,), bias=False)\n",
      "        (bn1): BatchNorm1d(100, eps=1e-05, momentum=0.1, affine=True, track_running_stats=True)\n",
      "        (conv2): Conv1d(100, 100, kernel_size=(5,), stride=(1,), padding=(2,), bias=False)\n",
      "        (bn2): BatchNorm1d(100, eps=1e-05, momentum=0.1, affine=True, track_running_stats=True)\n",
      "        (shortcut): Sequential()\n",
      "      )\n",
      "    )\n",
      "  )\n",
      ")\n"
     ]
    }
   ],
   "source": [
    "print(extractor)"
   ]
  },
  {
   "cell_type": "markdown",
   "metadata": {},
   "source": [
    "## Features extraction"
   ]
  },
  {
   "cell_type": "code",
   "execution_count": 25,
   "metadata": {},
   "outputs": [],
   "source": [
    "dl_train = spectral_dataloader(X_train, Y_train, batch_size=10, shuffle=False)\n",
    "dl_validation = spectral_dataloader(X_validation, Y_validation, batch_size=10, shuffle=False)\n",
    "dl_test = spectral_dataloader(X_test, Y_test, batch_size=10, shuffle=False)"
   ]
  },
  {
   "cell_type": "markdown",
   "metadata": {},
   "source": [
    "### Utility function"
   ]
  },
  {
   "cell_type": "code",
   "execution_count": 26,
   "metadata": {},
   "outputs": [],
   "source": [
    "def groupFeatures(X, features):\n",
    "    size = len(X)\n",
    "    numFeatures = len(features)\n",
    "    groupSize = numFeatures//size\n",
    "    X_grouped = []\n",
    "    num = 1\n",
    "    tmp = []\n",
    "    for i in range(numFeatures):\n",
    "        if num > groupSize:\n",
    "            num = 1\n",
    "        if num == 1:\n",
    "            tmp = []\n",
    "        tmp.append(features[i])\n",
    "        if num == groupSize:\n",
    "            X_grouped.append(tmp)\n",
    "        num+=1\n",
    "\n",
    "    return X_grouped"
   ]
  },
  {
   "cell_type": "markdown",
   "metadata": {},
   "source": [
    "### Extraction"
   ]
  },
  {
   "cell_type": "code",
   "execution_count": 27,
   "metadata": {},
   "outputs": [
    {
     "name": "stdout",
     "output_type": "stream",
     "text": [
      "Predicted 74 features for each spectrum: 22.08s\n",
      "Predicted 74 features for each spectrum: 16.95s\n",
      "Predicted 74 features for each spectrum: 19.34s\n"
     ]
    }
   ],
   "source": [
    "#Train set & finetunedNoLastBlock\n",
    "t0 = time()\n",
    "features_train = get_predictions(extractor, dl_train, cuda)\n",
    "print('Predicted {} features for each spectrum: {:0.2f}s'.format(len(features_train)//len(X_train), time()-t0))\n",
    "features_train = groupFeatures(X_train, features_train)\n",
    "features_train = np.array(features_train)\n",
    "\n",
    "#Validation set & finetunedNoLastBlock\n",
    "t0 = time()\n",
    "features_validation = get_predictions(extractor, dl_validation, cuda)\n",
    "print('Predicted {} features for each spectrum: {:0.2f}s'.format(len(features_validation)//len(X_validation), time()-t0))\n",
    "features_validation = groupFeatures(X_validation, features_validation)\n",
    "features_validation = np.array(features_validation)\n",
    "\n",
    "#Test set & finetunedNoLastBlock\n",
    "t0 = time()\n",
    "features_test = get_predictions(extractor, dl_test, cuda)\n",
    "print('Predicted {} features for each spectrum: {:0.2f}s'.format(len(features_test)//len(X_test), time()-t0))\n",
    "features_test = groupFeatures(X_test, features_test)\n",
    "features_test = np.array(features_test)"
   ]
  },
  {
   "cell_type": "markdown",
   "metadata": {},
   "source": [
    "## Prediction"
   ]
  },
  {
   "cell_type": "markdown",
   "metadata": {},
   "source": [
    "### Utility function"
   ]
  },
  {
   "cell_type": "code",
   "execution_count": 28,
   "metadata": {},
   "outputs": [],
   "source": [
    "def createModel(inputShape):\n",
    "    inputs = Input(shape = inputShape)\n",
    "    x = layers.Dense(128, activation = 'relu')(inputs)\n",
    "    x = layers.Dense(64, activation = 'relu') (x)\n",
    "    x = layers.Dense(32, activation = 'relu') (x)\n",
    "    x = layers.Dense(16, activation = 'relu') (x)\n",
    "    x = layers.Dropout(0.5)(x)\n",
    "    x = layers.Dense(1, activation = 'sigmoid') (x)\n",
    "    model = Model(inputs=inputs, outputs=x)\n",
    "    model.compile(loss=\"binary_crossentropy\", optimizer=Adam(learning_rate=1e-3, beta_1=0.5), metrics=[\"accuracy\"])\n",
    "    return model"
   ]
  },
  {
   "cell_type": "code",
   "execution_count": 29,
   "metadata": {},
   "outputs": [],
   "source": [
    "def plotTrainResult(history, modelName):\n",
    "    plt.figure(figsize=(10,7))\n",
    "    plt.style.use('dark_background')\n",
    "    plt.figure(figsize=(10,10))\n",
    "    plt.plot(history.history['loss'], 'g')\n",
    "    plt.plot(history.history['accuracy'], 'go')\n",
    "    plt.title('Loss and accuracy obtain on the training set using ' + modelName)\n",
    "    plt.ylim(0, 2)\n",
    "    plt.ylabel('Value')\n",
    "    plt.xlabel('Epoch')\n",
    "    plt.legend(['Loss', 'Accuracy'])\n",
    "    plt.show()"
   ]
  },
  {
   "cell_type": "code",
   "execution_count": 30,
   "metadata": {},
   "outputs": [],
   "source": [
    "def plotValResult(history, modelName):\n",
    "    plt.figure(figsize=(10,7))\n",
    "    plt.style.use('dark_background')\n",
    "    plt.figure(figsize=(10,10))\n",
    "    plt.plot(history.history['val_loss'], 'r')\n",
    "    plt.plot(history.history['val_accuracy'], 'ro')\n",
    "    plt.title('Loss and accuracy obtain on the validation set using ' + modelName)\n",
    "    plt.ylim(0, 2)\n",
    "    plt.ylabel('Value')\n",
    "    plt.xlabel('Epoch')\n",
    "    plt.legend(['Loss', 'Accuracy'])\n",
    "    plt.show()"
   ]
  },
  {
   "cell_type": "markdown",
   "metadata": {},
   "source": [
    "### Creation of the model"
   ]
  },
  {
   "cell_type": "code",
   "execution_count": 31,
   "metadata": {},
   "outputs": [],
   "source": [
    "model = createModel(features_train.shape[1:])"
   ]
  },
  {
   "cell_type": "code",
   "execution_count": 32,
   "metadata": {},
   "outputs": [
    {
     "data": {
      "image/png": "[encoded data removed]",
      "text/plain": [
       "<IPython.core.display.Image object>"
      ]
     },
     "execution_count": 32,
     "metadata": {},
     "output_type": "execute_result"
    }
   ],
   "source": [
    "plot_model(model, show_shapes=True, show_layer_names=True, rankdir='LR')"
   ]
  },
  {
   "cell_type": "markdown",
   "metadata": {},
   "source": [
    "### Training"
   ]
  },
  {
   "cell_type": "code",
   "execution_count": 33,
   "metadata": {},
   "outputs": [],
   "source": [
    "earlyStopping = EarlyStopping(monitor='val_accuracy', patience=10, mode='max', verbose=0)"
   ]
  },
  {
   "cell_type": "code",
   "execution_count": 34,
   "metadata": {},
   "outputs": [],
   "source": [
    "batch_size=32\n",
    "epochs=100"
   ]
  },
  {
   "cell_type": "code",
   "execution_count": 35,
   "metadata": {},
   "outputs": [],
   "source": [
    "model_checkpoint_filepath = \"checkpoints/checkpointDataAugmentation\"\n",
    "model_checkpoint_callback = ModelCheckpoint(filepath=model_checkpoint_filepath, save_weights_only=True, monitor='val_accuracy', mode='max',  save_best_only=True)"
   ]
  },
  {
   "cell_type": "code",
   "execution_count": 36,
   "metadata": {},
   "outputs": [],
   "source": [
    "history = model.fit(features_train, Y_train,\n",
    "          batch_size=batch_size,\n",
    "          epochs=epochs,\n",
    "          verbose=0,\n",
    "          callbacks=[earlyStopping, model_checkpoint_callback],\n",
    "          validation_data=(features_validation, Y_validation))"
   ]
  },
  {
   "cell_type": "code",
   "execution_count": 37,
   "metadata": {},
   "outputs": [
    {
     "data": {
      "text/plain": [
       "<Figure size 720x504 with 0 Axes>"
      ]
     },
     "metadata": {},
     "output_type": "display_data"
    },
    {
     "data": {
      "image/png": "[encoded data removed]",
      "text/plain": [
       "<Figure size 720x720 with 1 Axes>"
      ]
     },
     "metadata": {},
     "output_type": "display_data"
    }
   ],
   "source": [
    "plotTrainResult(history, \"With Data Augmentation\")"
   ]
  },
  {
   "cell_type": "code",
   "execution_count": 38,
   "metadata": {},
   "outputs": [
    {
     "data": {
      "text/plain": [
       "<Figure size 720x504 with 0 Axes>"
      ]
     },
     "metadata": {},
     "output_type": "display_data"
    },
    {
     "data": {
      "image/png": "[encoded data removed]",
      "text/plain": [
       "<Figure size 720x720 with 1 Axes>"
      ]
     },
     "metadata": {},
     "output_type": "display_data"
    }
   ],
   "source": [
    "plotValResult(history, \"With Data Augmentation\")"
   ]
  },
  {
   "cell_type": "code",
   "execution_count": 39,
   "metadata": {},
   "outputs": [],
   "source": [
    "model.load_weights(model_checkpoint_filepath)"
   ]
  },
  {
   "cell_type": "markdown",
   "metadata": {},
   "source": [
    "### Final prediction"
   ]
  },
  {
   "cell_type": "code",
   "execution_count": 40,
   "metadata": {},
   "outputs": [
    {
     "name": "stdout",
     "output_type": "stream",
     "text": [
      "Accuracy: 0.77041\n"
     ]
    }
   ],
   "source": [
    "prediction = model.predict(features_test)\n",
    "prediction_classes = np.where(prediction > 0.5, 1, 0)\n",
    "print('Accuracy: {:0.5f}'.format(accuracy_score(Y_test, prediction_classes)))"
   ]
  },
  {
   "cell_type": "code",
   "execution_count": 41,
   "metadata": {},
   "outputs": [
    {
     "data": {
      "image/png": "[encoded data removed]",
      "text/plain": [
       "<Figure size 1080x864 with 2 Axes>"
      ]
     },
     "metadata": {},
     "output_type": "display_data"
    }
   ],
   "source": [
    "# Plot confusion matrix\n",
    "sns.set_context(\"talk\", rc={\"font\":\"Helvetica\", \"font.size\":12})\n",
    "label = [\"Healthy\", \"ALS\"]\n",
    "cm = confusion_matrix(Y_test, prediction_classes, labels=[0,1])\n",
    "plt.figure(figsize=(15, 12))\n",
    "cm = 100 * cm / cm.sum(axis=1)[:,np.newaxis]\n",
    "ax = sns.heatmap(cm, annot=True, cmap='YlGnBu', fmt='0.0f',\n",
    "                 xticklabels=label, yticklabels=label)\n",
    "ax.xaxis.tick_top()\n",
    "plt.xticks(rotation=90) \n",
    "plt.show()"
   ]
  }
 ],
 "metadata": {
  "kernelspec": {
   "display_name": "Python [conda env:machine_learning]",
   "language": "python",
   "name": "conda-env-machine_learning-py"
  },
  "language_info": {
   "codemirror_mode": {
    "name": "ipython",
    "version": 3
   },
   "file_extension": ".py",
   "mimetype": "text/x-python",
   "name": "python",
   "nbconvert_exporter": "python",
   "pygments_lexer": "ipython3",
   "version": "3.6.12"
  }
 },
 "nbformat": 4,
 "nbformat_minor": 4
}
